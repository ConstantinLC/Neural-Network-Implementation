{
 "cells": [
  {
   "cell_type": "code",
   "execution_count": 1,
   "metadata": {},
   "outputs": [],
   "source": [
    "import numpy as np\n",
    "from utils import mnist_reader\n",
    "import matplotlib.pyplot as plt"
   ]
  },
  {
   "cell_type": "code",
   "execution_count": 2,
   "metadata": {},
   "outputs": [],
   "source": [
    "X_fashion, y_fashion = mnist_reader.load_mnist('data/fashion', kind='train')\n",
    "X_test_fashion, y_test_fashion = mnist_reader.load_mnist('data/fashion', kind='t10k')\n",
    "\n",
    "X_train_fashion = X_fashion[:50000]\n",
    "y_train_fashion = y_fashion[:50000]\n",
    "\n",
    "X_val_fashion = X_fashion[50000:]\n",
    "y_val_fashion = y_fashion[50000:]\n",
    "\n",
    "training_set_fashion = (X_train_fashion, y_train_fashion)\n",
    "validation_set_fashion = (X_val_fashion, y_val_fashion)\n",
    "testing_set_fashion = (X_test_fashion, y_test_fashion)"
   ]
  },
  {
   "cell_type": "code",
   "execution_count": 3,
   "metadata": {},
   "outputs": [],
   "source": [
    "def initialize_parameters(m, d_h, d):\n",
    "    W1 = np.random.uniform(-1/np.sqrt(d), 1/np.sqrt(d), (d_h, d))\n",
    "    W2 = np.random.uniform(-1/np.sqrt(d_h), 1/np.sqrt(d_h), (m, d_h))\n",
    "    b1 = np.zeros(d_h)\n",
    "    b2 = np.zeros(m)\n",
    "    return W1, W2, b1, b2"
   ]
  },
  {
   "cell_type": "code",
   "execution_count": 4,
   "metadata": {},
   "outputs": [],
   "source": [
    "def relu(x):\n",
    "    return np.where(x>0, x, np.zeros(x.shape))"
   ]
  },
  {
   "cell_type": "code",
   "execution_count": 5,
   "metadata": {},
   "outputs": [],
   "source": [
    "def d_relu_x(x):\n",
    "    return np.where(x>0, np.ones(x.shape), np.zeros(x.shape))"
   ]
  },
  {
   "cell_type": "code",
   "execution_count": 6,
   "metadata": {},
   "outputs": [],
   "source": [
    "def softmax(x):\n",
    "    d = np.shape(x)[0]\n",
    "    maxi = np.max(x, axis = 1)\n",
    "    r = np.exp(x - maxi.reshape(d, -1))\n",
    "    return r / np.sum(r, axis = 1)[:, np.newaxis]"
   ]
  },
  {
   "cell_type": "code",
   "execution_count": 7,
   "metadata": {},
   "outputs": [],
   "source": [
    "def fprop(W1, W2, b1, b2, x):\n",
    "    h_a = x @ W1.T + b1\n",
    "    h_s = relu(h_a)\n",
    "    o_a = h_s @ W2.T + b2\n",
    "    o_s = softmax(o_a)\n",
    "    return h_a, h_s, o_a, o_s"
   ]
  },
  {
   "cell_type": "code",
   "execution_count": 8,
   "metadata": {},
   "outputs": [],
   "source": [
    "def d_l_oa(o_s, y):\n",
    "    n = len(y)\n",
    "    indices = tuple(np.stack((np.arange(n), y)))\n",
    "    d_oa = np.copy(o_s)\n",
    "    d_oa[indices] -= 1\n",
    "    return d_oa/n"
   ]
  },
  {
   "cell_type": "code",
   "execution_count": 9,
   "metadata": {},
   "outputs": [],
   "source": [
    "def d_oa_w2(h_s):\n",
    "    return h_s"
   ]
  },
  {
   "cell_type": "code",
   "execution_count": 10,
   "metadata": {},
   "outputs": [],
   "source": [
    "def d_oa_hs(W2):\n",
    "    return W2"
   ]
  },
  {
   "cell_type": "code",
   "execution_count": 11,
   "metadata": {},
   "outputs": [],
   "source": [
    "def d_hs_ha(h_a):\n",
    "    return d_relu_x(h_a)"
   ]
  },
  {
   "cell_type": "code",
   "execution_count": 12,
   "metadata": {},
   "outputs": [],
   "source": [
    "def d_ha_w1(X):\n",
    "    return X"
   ]
  },
  {
   "cell_type": "code",
   "execution_count": 13,
   "metadata": {},
   "outputs": [],
   "source": [
    "def bprop(h_a, h_s, o_a, o_s, X, y, W2):\n",
    "    n = len(y)\n",
    "    d_oa = d_l_oa(o_s, y)\n",
    "    d_W2 = d_oa.T @ d_oa_w2(h_s)\n",
    "    d_b2 = np.sum(d_oa, axis = 0)\n",
    "    d_oa_d_hs = d_oa_hs(W2)\n",
    "    d_hs = d_oa @ d_oa_d_hs\n",
    "    \n",
    "    d_hs_d_ha = d_hs_ha(h_a)\n",
    "    d_ha_d_w1 = d_ha_w1(X)\n",
    "    d_ha = d_hs * d_hs_d_ha\n",
    "    \n",
    "    d_W1 = d_ha.T @ d_ha_d_w1\n",
    "    d_b1 = np.sum(d_ha, axis = 0)\n",
    "    \n",
    "    return d_W2, d_b2, d_W1, d_b1"
   ]
  },
  {
   "cell_type": "code",
   "execution_count": 14,
   "metadata": {},
   "outputs": [],
   "source": [
    "def compute_cost(o_s, y) :\n",
    "    n = len(y)\n",
    "    indices = tuple(np.stack((np.arange(n), y)))\n",
    "    return -1/n * np.sum(np.log(o_s[indices]))"
   ]
  },
  {
   "cell_type": "code",
   "execution_count": 15,
   "metadata": {},
   "outputs": [],
   "source": [
    "W1, W2, b1, b2 = initialize_parameters(3, 4, 2)\n",
    "X = np.random.rand(10, 2)\n",
    "h_a, h_s, o_a, o_s = fprop(W1, W2, b1, b2, X)\n",
    "y = np.random.randint(2, size = 10)\n",
    "d_W2, d_b2, d_W1, d_b1 = bprop(h_a, h_s, o_a, o_s, X, y, W2)\n",
    "loss = compute_cost(o_s, y)"
   ]
  },
  {
   "cell_type": "code",
   "execution_count": 16,
   "metadata": {},
   "outputs": [],
   "source": [
    "class BatchIter :\n",
    "    def __init__(self, X, Y, total_n, K):\n",
    "        self.K = K\n",
    "        self.list = np.random.permutation(total_n)\n",
    "        self.X = X\n",
    "        self.Y = Y\n",
    "        self.n = total_n\n",
    "        self.count = 0\n",
    "        \n",
    "    def __iter__(self):\n",
    "        return self\n",
    "    \n",
    "    def __next__(self):\n",
    "        if self.count < (self.n - self.K):\n",
    "            count = self.count\n",
    "            self.count += self.K\n",
    "            indices = self.list[count : count + self.K]\n",
    "            return (self.X[indices], self.Y[indices])\n",
    "        else :\n",
    "            raise StopIteration()"
   ]
  },
  {
   "cell_type": "code",
   "execution_count": 17,
   "metadata": {},
   "outputs": [],
   "source": [
    "def finite_diff_W1(X, Y, W1, W2, b1, b2): #Finite Differentiation gradients\n",
    "    o_s = fprop(W1, W2 , b1, b2, X)[3]\n",
    "    delta = 10e-5\n",
    "    W3 = np.copy(W1)\n",
    "    W3[0, 1] += delta\n",
    "    o_s_delta = fprop(W3, W2, b1, b2, X)[3]\n",
    "    a = (compute_loss(o_s, Y) - compute_loss(o_s_delta, Y))/delta\n",
    "    print(\"a\", a)"
   ]
  },
  {
   "cell_type": "code",
   "execution_count": 18,
   "metadata": {},
   "outputs": [],
   "source": [
    "def SGD(X, Y, K, m, d_h, d, l_rate, nb_epochs):\n",
    "    total_n = np.shape(X)[0]\n",
    "    W1, W2, b1, b2 = initialize_parameters(m, d_h, d)\n",
    "    accuracies = []\n",
    "    test_accuracies = []\n",
    "\n",
    "    for i in range (nb_epochs):\n",
    "        batch_iter = BatchIter(X, Y, total_n, K)\n",
    "        for XY_batch in batch_iter:\n",
    "            X_batch = XY_batch[0]\n",
    "            y_batch = XY_batch[1]\n",
    "            \n",
    "            h_a, h_s, o_a, o_s =  fprop(W1, W2, b1, b2, X_batch)\n",
    "            d_W2, d_b2, d_W1, d_b1 = bprop(h_a, h_s, o_a, o_s, X_batch, y_batch, W2)\n",
    "            \n",
    "            W1 -= l_rate*d_W1\n",
    "            W2 -= l_rate*d_W2\n",
    "            b1 -= l_rate*d_b1\n",
    "            b2 -= l_rate*d_b2\n",
    "            \n",
    "        interm_os = fprop(W1, W2, b1, b2, X)[3]\n",
    "        interm_prediction = (np.sum(np.argmax(interm_os, axis = 1) == Y) ) / total_n * 100\n",
    "        accuracies.append(interm_prediction)\n",
    "        interm_test_os = fprop(W1, W2, b1, b2, X_test_fashion)[3]\n",
    "        interm_test_prediction = (np.sum(np.argmax(interm_test_os, axis = 1) == y_test_fashion) ) / len(y_test_fashion) * 100\n",
    "        test_accuracies.append(interm_test_prediction)\n",
    "        \n",
    "        print(\"Epoch \", i+1,\" Accuracy : \", interm_prediction, \" %\\n\")\n",
    "    \n",
    "    return W1, W2, b1, b2, accuracies, test_accuracies"
   ]
  },
  {
   "cell_type": "code",
   "execution_count": 19,
   "metadata": {
    "scrolled": false
   },
   "outputs": [
    {
     "name": "stdout",
     "output_type": "stream",
     "text": [
      "Epoch  1  Accuracy :  79.53  %\n",
      "\n",
      "Epoch  2  Accuracy :  81.71000000000001  %\n",
      "\n",
      "Epoch  3  Accuracy :  83.31  %\n",
      "\n",
      "Epoch  4  Accuracy :  83.902  %\n",
      "\n",
      "Epoch  5  Accuracy :  84.612  %\n",
      "\n",
      "Epoch  6  Accuracy :  84.462  %\n",
      "\n",
      "Epoch  7  Accuracy :  85.476  %\n",
      "\n",
      "Epoch  8  Accuracy :  85.882  %\n",
      "\n",
      "Epoch  9  Accuracy :  85.98  %\n",
      "\n",
      "Epoch  10  Accuracy :  86.676  %\n",
      "\n",
      "Epoch  11  Accuracy :  86.68599999999999  %\n",
      "\n",
      "Epoch  12  Accuracy :  86.892  %\n",
      "\n",
      "Epoch  13  Accuracy :  87.01  %\n",
      "\n",
      "Epoch  14  Accuracy :  87.41600000000001  %\n",
      "\n",
      "Epoch  15  Accuracy :  87.27000000000001  %\n",
      "\n",
      "Epoch  16  Accuracy :  87.78  %\n",
      "\n",
      "Epoch  17  Accuracy :  87.884  %\n",
      "\n",
      "Epoch  18  Accuracy :  88.2  %\n",
      "\n",
      "Epoch  19  Accuracy :  88.18  %\n",
      "\n",
      "Epoch  20  Accuracy :  88.346  %\n",
      "\n",
      "Epoch  21  Accuracy :  86.92999999999999  %\n",
      "\n",
      "Epoch  22  Accuracy :  88.7  %\n",
      "\n",
      "Epoch  23  Accuracy :  88.62  %\n",
      "\n",
      "Epoch  24  Accuracy :  88.778  %\n",
      "\n",
      "Epoch  25  Accuracy :  88.41  %\n",
      "\n",
      "Epoch  26  Accuracy :  89.05999999999999  %\n",
      "\n",
      "Epoch  27  Accuracy :  89.28399999999999  %\n",
      "\n",
      "Epoch  28  Accuracy :  89.30399999999999  %\n",
      "\n",
      "Epoch  29  Accuracy :  89.172  %\n",
      "\n",
      "Epoch  30  Accuracy :  89.46  %\n",
      "\n"
     ]
    }
   ],
   "source": [
    "nb_epochs = 30\n",
    "W1, W2, b1, b2, accuracies, test_accuracies = SGD(X_train_fashion, y_train_fashion, 20, 10, 100, 784, 0.0001, nb_epochs)"
   ]
  },
  {
   "cell_type": "code",
   "execution_count": 20,
   "metadata": {},
   "outputs": [
    {
     "name": "stdout",
     "output_type": "stream",
     "text": [
      "Accuracy on Validation Set :  86.42999999999999 %\n"
     ]
    }
   ],
   "source": [
    "val_os = fprop(W1, W2, b1, b2, X_val_fashion)[3]   #Accuracy on Test Set\n",
    "test_prediction = (np.sum(np.argmax(val_os, axis = 1) == y_val_fashion) ) / len(y_val_fashion) * 100\n",
    "print(\"Accuracy on Validation Set : \", test_prediction, \"%\")"
   ]
  },
  {
   "cell_type": "code",
   "execution_count": 21,
   "metadata": {},
   "outputs": [
    {
     "name": "stdout",
     "output_type": "stream",
     "text": [
      "Accuracy on Test Set :  85.83 %\n"
     ]
    }
   ],
   "source": [
    "test_os = fprop(W1, W2, b1, b2, X_test_fashion)[3]   #Accuracy on Test Set\n",
    "test_prediction = (np.sum(np.argmax(test_os, axis = 1) == y_test_fashion) ) / len(y_test_fashion) * 100\n",
    "print(\"Accuracy on Test Set : \", test_prediction, \"%\")"
   ]
  },
  {
   "cell_type": "code",
   "execution_count": 22,
   "metadata": {},
   "outputs": [
    {
     "data": {
      "image/png": "[encoded data removed]",
      "text/plain": [
       "<Figure size 432x288 with 1 Axes>"
      ]
     },
     "metadata": {
      "needs_background": "light"
     },
     "output_type": "display_data"
    }
   ],
   "source": [
    "# Plot Results as a function of Epochs\n",
    "x = np.arange(nb_epochs)\n",
    "plt.plot(x, accuracies, x, test_accuracies)\n",
    "plt.title(\"Accuracy of classification\")\n",
    "plt.legend(['TRAIN_SET', 'TEST_SET'])\n",
    "plt.show()"
   ]
  }
 ],
 "metadata": {
  "kernelspec": {
   "display_name": "Python 3",
   "language": "python",
   "name": "python3"
  },
  "language_info": {
   "codemirror_mode": {
    "name": "ipython",
    "version": 3
   },
   "file_extension": ".py",
   "mimetype": "text/x-python",
   "name": "python",
   "nbconvert_exporter": "python",
   "pygments_lexer": "ipython3",
   "version": "3.7.0"
  }
 },
 "nbformat": 4,
 "nbformat_minor": 2
}
